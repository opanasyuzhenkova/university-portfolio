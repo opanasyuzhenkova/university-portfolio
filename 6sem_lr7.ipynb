{
  "nbformat": 4,
  "nbformat_minor": 0,
  "metadata": {
    "colab": {
      "provenance": [],
      "authorship_tag": "ABX9TyMA9M0UZ956peOSI4ydYQ5A",
      "include_colab_link": true
    },
    "kernelspec": {
      "name": "python3",
      "display_name": "Python 3"
    },
    "language_info": {
      "name": "python"
    }
  },
  "cells": [
    {
      "cell_type": "markdown",
      "metadata": {
        "id": "view-in-github",
        "colab_type": "text"
      },
      "source": [
        "<a href=\"https://colab.research.google.com/github/opanasyuzhenkova/university-portfolio/blob/main/6sem_lr7.ipynb\" target=\"_parent\"><img src=\"https://colab.research.google.com/assets/colab-badge.svg\" alt=\"Open In Colab\"/></a>"
      ]
    },
    {
      "cell_type": "markdown",
      "source": [
        "## Лабораторная работа 7"
      ],
      "metadata": {
        "id": "DO0rPWPapvN4"
      }
    },
    {
      "cell_type": "code",
      "source": [
        "import pandas as pd\n",
        "\n",
        "data = pd.read_csv(\"ex1data2.csv\")\n",
        "\n",
        "# print(data)"
      ],
      "metadata": {
        "id": "TqCmSW0QEfGk"
      },
      "execution_count": null,
      "outputs": []
    },
    {
      "cell_type": "code",
      "execution_count": null,
      "metadata": {
        "colab": {
          "base_uri": "https://localhost:8080/",
          "height": 472
        },
        "id": "DlZ_kuEKESvM",
        "outputId": "56d76af5-ebcf-428e-c22a-897742811fc5"
      },
      "outputs": [
        {
          "output_type": "display_data",
          "data": {
            "text/plain": [
              "<Figure size 640x480 with 1 Axes>"
            ],
            "image/png": "[encoded data removed]"
          },
          "metadata": {}
        }
      ],
      "source": [
        "# 1 - Визуализация\n",
        "import numpy as np\n",
        "import matplotlib.pyplot as plt\n",
        "\n",
        "x = data['square_house']\n",
        "y = data['cost']\n",
        "\n",
        "plt.scatter(x, y, s=2)\n",
        "plt.xlabel('Площадь')\n",
        "plt.ylabel('Стоимость')\n",
        "plt.title('Зависимость стоимости от размера жилья')\n",
        "plt.autoscale(tight=False)\n",
        "plt.show()"
      ]
    },
    {
      "cell_type": "code",
      "source": [
        "# 2 - Линенйная модель, учитывающая только размер жилья\n",
        "\n",
        "from sklearn import metrics\n",
        "\n",
        "x = data['square_house'].values.reshape(-1, 1)\n",
        "y = data['cost'].values\n",
        "\n",
        "\n",
        "train_data,test_data = train_test_split(data, train_size=0.8, random_state=3)\n",
        "reg = linear_model.LinearRegression()\n",
        "x_train = np.array(train_data['square_house']).reshape(-1, 1)\n",
        "y_train = np.array(train_data['cost']).reshape(-1, 1)\n",
        "reg.fit(x_train,y_train)\n",
        "\n",
        "x_test = np.array(test_data['square_house']).reshape(-1, 1)\n",
        "y_test = np.array(test_data['cost']).reshape(-1, 1)\n",
        "\n",
        "\n",
        "x_pred = np.array([[1650], [2200]])\n",
        "y_pred = reg.predict(x_pred)\n",
        "\n",
        "print('Предсказанные значения стоимости объектов недвижимости:')\n",
        "for i in range(len(x_pred)):\n",
        "    print('Для объекта {}: {}'.format(i+1, y_pred[i]))\n"
      ],
      "metadata": {
        "colab": {
          "base_uri": "https://localhost:8080/"
        },
        "id": "B3g9O_04eoJR",
        "outputId": "4b929231-044a-47b9-de6a-5b3e3d1a66fd"
      },
      "execution_count": null,
      "outputs": [
        {
          "output_type": "stream",
          "name": "stdout",
          "text": [
            "Предсказанные значения стоимости объектов недвижимости:\n",
            "Для объекта 1: [289965.95931498]\n",
            "Для объекта 2: [363536.91687066]\n"
          ]
        }
      ]
    },
    {
      "cell_type": "code",
      "source": [
        "# 3 - Полиномиальная модель (степени 2 и 3), учитывающую только размер жилья.\n",
        "\n",
        "from sklearn.preprocessing import PolynomialFeatures\n",
        "\n",
        "# Подготовка данных\n",
        "poly_features = PolynomialFeatures(degree=2)\n",
        "x_poly = poly_features.fit_transform(x)\n",
        "\n",
        "# Обучение полиномиальной модели (степень 2)\n",
        "model_poly2 = LinearRegression()\n",
        "model_poly2.fit(x_poly, y)\n",
        "\n",
        "# Предсказание значений\n",
        "x_pred_poly2 = poly_features.transform(x_pred)\n",
        "y_pred_poly2 = model_poly2.predict(x_pred_poly2)\n",
        "\n",
        "print('Предсказанные значения стоимости объектов недвижимости (полином, степень 2):')\n",
        "for i in range(len(x_pred)):\n",
        "    print('Для объекта {}: {}'.format(i+1, y_pred_poly2[i]))\n",
        "\n",
        "# Подготовка данных\n",
        "poly_features = PolynomialFeatures(degree=3)\n",
        "x_poly = poly_features.fit_transform(x)\n",
        "\n",
        "# Обучение полиномиальной модели (степень 3)\n",
        "model_poly3 = LinearRegression()\n",
        "model_poly3.fit(x_poly, y)\n",
        "\n",
        "# Предсказание значений\n",
        "x_pred_poly3 = poly_features.transform(x_pred)\n",
        "y_pred_poly3 = model_poly3.predict(x_pred_poly3)\n",
        "\n",
        "print('Предсказанные значения стоимости объектов недвижимости (полином, степень 3):')\n",
        "for i in range(len(x_pred)):\n",
        "    print('Для объекта {}: {}'.format(i+1, y_pred_poly3[i]))\n",
        "\n",
        "\n"
      ],
      "metadata": {
        "colab": {
          "base_uri": "https://localhost:8080/"
        },
        "id": "5ZOICmJHmIlS",
        "outputId": "492be77d-0d93-4521-dabd-f8a3a1eee988"
      },
      "execution_count": null,
      "outputs": [
        {
          "output_type": "stream",
          "name": "stdout",
          "text": [
            "Предсказанные значения стоимости объектов недвижимости (полином, степень 2):\n",
            "Для объекта 1: 293387.0848596068\n",
            "Для объекта 2: 368112.5856422966\n",
            "Предсказанные значения стоимости объектов недвижимости (полином, степень 3):\n",
            "Для объекта 1: 285422.8280856648\n",
            "Для объекта 2: 365824.7507114775\n"
          ]
        }
      ]
    },
    {
      "cell_type": "code",
      "source": [
        "# 4 - Линейная модель с учетом размера жилья и количества комнат\n",
        "\n",
        "from sklearn import linear_model\n",
        "from sklearn.model_selection import train_test_split\n",
        "from sklearn.linear_model import LinearRegression\n",
        "\n",
        "train_data, test_data=train_test_split(data,train_size=0.8,random_state=3)\n",
        "\n",
        "features =['square_house', 'number_of_rooms']\n",
        "target = 'cost'\n",
        "\n",
        "x = data[features].values.reshape(-1, len(features))\n",
        "y = data[target].values\n",
        "\n",
        "# x = data.loc[:, ('square_house', 'number_of_rooms')]\n",
        "# y = data.loc[:, 'cost']\n",
        "\n",
        "ols = linear_model.LinearRegression()\n",
        "model = ols.fit(x, y)\n",
        "\n",
        "\n",
        "x_pred_1 = np.array([1650, 3])\n",
        "x_pred_1 = x_pred_1.reshape(-1, len(features))\n",
        "print('Предсказанная стоимость для объекта 1: ', *model.predict(x_pred_1))\n",
        "\n",
        "x_pred_2 = np.array([2220, 4])\n",
        "x_pred_2 = x_pred_2.reshape(-1, len(features))\n",
        "print('Предсказанная стоимость для объекта 2: ', *model.predict(x_pred_2))\n",
        "\n"
      ],
      "metadata": {
        "colab": {
          "base_uri": "https://localhost:8080/"
        },
        "id": "O-Jfrc1wsguv",
        "outputId": "33aaade2-56b5-4472-fcdf-09a18b9eba11"
      },
      "execution_count": null,
      "outputs": [
        {
          "output_type": "stream",
          "name": "stdout",
          "text": [
            "Предсказанная стоимость для объекта 1:  293081.4643348961\n",
            "Предсказанная стоимость для объекта 2:  363693.5294126148\n"
          ]
        }
      ]
    },
    {
      "cell_type": "code",
      "source": [
        "print('Линейная модель (только размер жилья):')\n",
        "for i in range(len(x_pred)):\n",
        "    print('Для объекта {}: {}'.format(i+1, *y_pred[i]))\n",
        "\n",
        "print('Полиномиальная модель (степень 2):')\n",
        "for i in range(len(x_pred)):\n",
        "    print('Для объекта {}: {}'.format(i+1, y_pred_poly2[i]))\n",
        "\n",
        "print('Полиномиальная модель (степень 3):')\n",
        "for i in range(len(x_pred)):\n",
        "    print('Для объекта {}: {}'.format(i+1, y_pred_poly3[i]))\n"
      ],
      "metadata": {
        "id": "A9bF44f0YSoN",
        "colab": {
          "base_uri": "https://localhost:8080/"
        },
        "outputId": "746cfe89-1f62-4adb-ebb7-248027903df2"
      },
      "execution_count": null,
      "outputs": [
        {
          "output_type": "stream",
          "name": "stdout",
          "text": [
            "Линейная модель (только размер жилья):\n",
            "Для объекта 1: 289965.959314975\n",
            "Для объекта 2: 363536.9168706558\n",
            "Полиномиальная модель (степень 2):\n",
            "Для объекта 1: 293387.0848596068\n",
            "Для объекта 2: 368112.5856422966\n",
            "Полиномиальная модель (степень 3):\n",
            "Для объекта 1: 285422.8280856648\n",
            "Для объекта 2: 365824.7507114775\n"
          ]
        }
      ]
    },
    {
      "cell_type": "markdown",
      "source": [
        "###Анализ результатов:\n",
        "\n",
        "Чем меньше значение ошибки (MSE), тем лучше модель.\n",
        "\n",
        "1) Линейная модель имеет наибольшую ошибку, так как она представляет простую линейную зависимость между размером жилья и стоимостью. Этого недостаточно для точного предсказания.\n",
        "\n",
        "2) Полиномиальные модели (степени 2 и 3), которые учитывают только размер жилья, будут иметь меньшую ошибку, так как они улавливают нелинейные зависимости между размером жилья и стоимостью.\n",
        "\n",
        "3) Линейная модель, учитывающая размер жилья и количество комнат, будет иметь наименьшую ошибку, засчет того, что она учитывает дополнительный признак (количество комнат), что позволяет более точно предсказывать стоимость.\n"
      ],
      "metadata": {
        "id": "p0SYOYLHwV5a"
      }
    }
  ]
}